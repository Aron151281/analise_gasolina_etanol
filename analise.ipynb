{
 "cells": [
  {
   "cell_type": "code",
   "execution_count": 1,
   "metadata": {},
   "outputs": [],
   "source": [
    "# importando as bibliotecas \n",
    "\n",
    "import matplotlib.pyplot as plt\n",
    "import seaborn as sns\n",
    "import requests as rq\n",
    "import zipfile as zp\n",
    "import io\n",
    "import geopandas as gpd\n",
    "from matplotlib.colors import LinearSegmentedColormap as lsc\n",
    "import matplotlib.ticker as mticker\n",
    "\n",
    "import pandas as pd\n",
    "\n",
    "# importando arquivos \n",
    "# URL do arquivo ZIP para mapa coroplético\n",
    "url = \"http://www.usp.br/nereus/wp-content/uploads/BR_UF_2021.zip\"\n",
    "\n",
    "# Fazer o download do arquivo ZIP e extrair seu conteúdo\n",
    "response = rq.get(url)\n",
    "zip_file = zp.ZipFile(io.BytesIO(response.content))\n",
    "zip_file.extractall(\"/content/brasil_estados_folder\")\n",
    "\n",
    "# Importar o shapefile\n",
    "brasil_estados = gpd.read_file(\"/content/brasil_estados_folder/BR_UF_2021.shp\")\n",
    "\n",
    "# importando o DataSet anp meses 5 e 6\n",
    "\n",
    "gas_eta_5=pd.read_csv('https://www.gov.br/anp/pt-br/centrais-de-conteudo/dados-abertos/arquivos/shpc/dsan/2023/precos-gasolina-etanol-05.csv' ,sep=';')\n",
    "gas_eta_6=pd.read_csv('https://www.gov.br/anp/pt-br/centrais-de-conteudo/dados-abertos/arquivos/shpc/dsan/2023/precos-gasolina-etanol-06.csv',sep=';')\n",
    "gas_eta=pd.concat([gas_eta_5,gas_eta_6])\n"
   ]
  },
  {
   "cell_type": "code",
   "execution_count": 2,
   "metadata": {},
   "outputs": [],
   "source": [
    "gas_eta=pd.DataFrame(gas_eta,columns=['Regiao - Sigla','Estado - Sigla','Municipio','Produto','Data da Coleta','Valor de Venda','Bandeira'])\n",
    "# transformando os dados da coluna valor da venda para float\n",
    "gas_eta['Valor de Venda']=gas_eta['Valor de Venda'].apply(lambda x: float(x.replace(',','.')))\n",
    "\n",
    "# transformando os dados de data para datetime\n",
    "gas_eta['Data da Coleta']=pd.to_datetime(gas_eta['Data da Coleta'],dayfirst=True)\n",
    "\n"
   ]
  },
  {
   "cell_type": "code",
   "execution_count": 3,
   "metadata": {},
   "outputs": [],
   "source": [
    "# mdc=media diaria dos preços combustiv\n",
    "espaco_temporal = pd.date_range(start='2023-01-01', periods=30, freq='D')"
   ]
  },
  {
   "cell_type": "code",
   "execution_count": 4,
   "metadata": {},
   "outputs": [],
   "source": [
    "mdc=gas_eta.pivot_table(columns='Produto',index='Data da Coleta',values='Valor de Venda', aggfunc='mean').reindex(pd.date_range(start='2023-05-01',end='2023-06-30'),method='nearest')\n",
    "\n",
    "media_combustivel=mdc.mean()\n",
    "\n"
   ]
  },
  {
   "cell_type": "code",
   "execution_count": 6,
   "metadata": {},
   "outputs": [],
   "source": [
    "media_municipal=gas_eta.pivot_table(columns='Produto',index='Municipio',values='Valor de Venda', aggfunc='mean')\n",
    "\n",
    "municipios_mais_baratos={'GASOLINA':media_municipal['GASOLINA'].sort_values()[:3],\n",
    "'GASOLINA ADITIVADA':media_municipal['GASOLINA ADITIVADA'].sort_values()[:3],\n",
    "'ETANOL':media_municipal['ETANOL'].sort_values()[:3]}\n",
    "\n",
    "gas_eta['Regiao - Sigla']\n"
   ]
  },
  {
   "cell_type": "code",
   "execution_count": 8,
   "metadata": {},
   "outputs": [
    {
     "data": {
      "text/html": [
       "<div>\n",
       "<style scoped>\n",
       "    .dataframe tbody tr th:only-of-type {\n",
       "        vertical-align: middle;\n",
       "    }\n",
       "\n",
       "    .dataframe tbody tr th {\n",
       "        vertical-align: top;\n",
       "    }\n",
       "\n",
       "    .dataframe thead th {\n",
       "        text-align: right;\n",
       "    }\n",
       "</style>\n",
       "<table border=\"1\" class=\"dataframe\">\n",
       "  <thead>\n",
       "    <tr style=\"text-align: right;\">\n",
       "      <th>Regiao - Sigla</th>\n",
       "      <th>CO</th>\n",
       "      <th>N</th>\n",
       "      <th>NE</th>\n",
       "      <th>S</th>\n",
       "      <th>SE</th>\n",
       "    </tr>\n",
       "    <tr>\n",
       "      <th>Produto</th>\n",
       "      <th></th>\n",
       "      <th></th>\n",
       "      <th></th>\n",
       "      <th></th>\n",
       "      <th></th>\n",
       "    </tr>\n",
       "  </thead>\n",
       "  <tbody>\n",
       "    <tr>\n",
       "      <th>ETANOL</th>\n",
       "      <td>3.860694</td>\n",
       "      <td>4.717983</td>\n",
       "      <td>4.412827</td>\n",
       "      <td>4.418889</td>\n",
       "      <td>3.904152</td>\n",
       "    </tr>\n",
       "    <tr>\n",
       "      <th>GASOLINA</th>\n",
       "      <td>5.381720</td>\n",
       "      <td>5.779189</td>\n",
       "      <td>5.453986</td>\n",
       "      <td>5.427969</td>\n",
       "      <td>5.307980</td>\n",
       "    </tr>\n",
       "    <tr>\n",
       "      <th>GASOLINA ADITIVADA</th>\n",
       "      <td>5.523893</td>\n",
       "      <td>5.945986</td>\n",
       "      <td>5.594001</td>\n",
       "      <td>5.578414</td>\n",
       "      <td>5.532514</td>\n",
       "    </tr>\n",
       "  </tbody>\n",
       "</table>\n",
       "</div>"
      ],
      "text/plain": [
       "Regiao - Sigla            CO         N        NE         S        SE\n",
       "Produto                                                             \n",
       "ETANOL              3.860694  4.717983  4.412827  4.418889  3.904152\n",
       "GASOLINA            5.381720  5.779189  5.453986  5.427969  5.307980\n",
       "GASOLINA ADITIVADA  5.523893  5.945986  5.594001  5.578414  5.532514"
      ]
     },
     "execution_count": 8,
     "metadata": {},
     "output_type": "execute_result"
    }
   ],
   "source": [
    "preco_por_regiao=gas_eta.pivot_table(columns='Regiao - Sigla',index='Produto',values='Valor de Venda', aggfunc='mean')"
   ]
  },
  {
   "cell_type": "code",
   "execution_count": 14,
   "metadata": {},
   "outputs": [],
   "source": [
    "media_regiao_data=gas_eta.pivot_table(columns='Regiao - Sigla',values='Valor de Venda',index=['Produto','Data da Coleta'],aggfunc='mean').dropna()"
   ]
  },
  {
   "cell_type": "code",
   "execution_count": 16,
   "metadata": {},
   "outputs": [
    {
     "data": {
      "text/html": [
       "<div>\n",
       "<style scoped>\n",
       "    .dataframe tbody tr th:only-of-type {\n",
       "        vertical-align: middle;\n",
       "    }\n",
       "\n",
       "    .dataframe tbody tr th {\n",
       "        vertical-align: top;\n",
       "    }\n",
       "\n",
       "    .dataframe thead th {\n",
       "        text-align: right;\n",
       "    }\n",
       "</style>\n",
       "<table border=\"1\" class=\"dataframe\">\n",
       "  <thead>\n",
       "    <tr style=\"text-align: right;\">\n",
       "      <th>Regiao - Sigla</th>\n",
       "      <th>CO</th>\n",
       "      <th>N</th>\n",
       "      <th>NE</th>\n",
       "      <th>S</th>\n",
       "      <th>SE</th>\n",
       "    </tr>\n",
       "    <tr>\n",
       "      <th>Regiao - Sigla</th>\n",
       "      <th></th>\n",
       "      <th></th>\n",
       "      <th></th>\n",
       "      <th></th>\n",
       "      <th></th>\n",
       "    </tr>\n",
       "  </thead>\n",
       "  <tbody>\n",
       "    <tr>\n",
       "      <th>CO</th>\n",
       "      <td>1.000000</td>\n",
       "      <td>0.502053</td>\n",
       "      <td>0.691002</td>\n",
       "      <td>0.613359</td>\n",
       "      <td>0.692390</td>\n",
       "    </tr>\n",
       "    <tr>\n",
       "      <th>N</th>\n",
       "      <td>0.502053</td>\n",
       "      <td>1.000000</td>\n",
       "      <td>0.341870</td>\n",
       "      <td>0.163421</td>\n",
       "      <td>0.409093</td>\n",
       "    </tr>\n",
       "    <tr>\n",
       "      <th>NE</th>\n",
       "      <td>0.691002</td>\n",
       "      <td>0.341870</td>\n",
       "      <td>1.000000</td>\n",
       "      <td>0.514898</td>\n",
       "      <td>0.594370</td>\n",
       "    </tr>\n",
       "    <tr>\n",
       "      <th>S</th>\n",
       "      <td>0.613359</td>\n",
       "      <td>0.163421</td>\n",
       "      <td>0.514898</td>\n",
       "      <td>1.000000</td>\n",
       "      <td>0.712279</td>\n",
       "    </tr>\n",
       "    <tr>\n",
       "      <th>SE</th>\n",
       "      <td>0.692390</td>\n",
       "      <td>0.409093</td>\n",
       "      <td>0.594370</td>\n",
       "      <td>0.712279</td>\n",
       "      <td>1.000000</td>\n",
       "    </tr>\n",
       "  </tbody>\n",
       "</table>\n",
       "</div>"
      ],
      "text/plain": [
       "Regiao - Sigla        CO         N        NE         S        SE\n",
       "Regiao - Sigla                                                  \n",
       "CO              1.000000  0.502053  0.691002  0.613359  0.692390\n",
       "N               0.502053  1.000000  0.341870  0.163421  0.409093\n",
       "NE              0.691002  0.341870  1.000000  0.514898  0.594370\n",
       "S               0.613359  0.163421  0.514898  1.000000  0.712279\n",
       "SE              0.692390  0.409093  0.594370  0.712279  1.000000"
      ]
     },
     "execution_count": 16,
     "metadata": {},
     "output_type": "execute_result"
    }
   ],
   "source": [
    "media_regiao_data.loc['GASOLINA'].corr()"
   ]
  },
  {
   "cell_type": "code",
   "execution_count": null,
   "metadata": {},
   "outputs": [],
   "source": []
  },
  {
   "cell_type": "code",
   "execution_count": null,
   "metadata": {},
   "outputs": [],
   "source": []
  },
  {
   "cell_type": "code",
   "execution_count": null,
   "metadata": {},
   "outputs": [],
   "source": [
    "percentual_g_c=F\"+{((gasolina_c[gasolina_c.index.max()]/gasolina_c[gasolina_c.index.min()]-1)*100) : .2f}% Gasolina Comum\".replace('.',',')\n",
    "percentual_g_a =f\"+{((mdc[mdc['GASOLINA ADITIVADA'].index.max()]/mdc['GASOLINA ADITIVADA'.index.min()]-1)*100): .2f}% Gasolina Aditivada\".replace('.',',')\n",
    "percentual_e=F\"{((etanol[etanol.index.max()]/etanol[gasolina_c.index.min()]-1)*100).round(2): .2f}% Etanol\".replace('.',',')"
   ]
  },
  {
   "cell_type": "code",
   "execution_count": 25,
   "metadata": {},
   "outputs": [
    {
     "data": {
      "text/plain": [
       "5.718"
      ]
     },
     "execution_count": 25,
     "metadata": {},
     "output_type": "execute_result"
    }
   ],
   "source": [
    "\n"
   ]
  },
  {
   "cell_type": "code",
   "execution_count": 35,
   "metadata": {},
   "outputs": [],
   "source": [
    "percentual_g_a =f\"+{((mdc['GASOLINA ADITIVADA'][-1]/mdc['GASOLINA ADITIVADA'][0]-1)*100): .2f}% Gasolina Aditivada\".replace('.',',')"
   ]
  },
  {
   "cell_type": "code",
   "execution_count": 36,
   "metadata": {},
   "outputs": [
    {
     "data": {
      "text/plain": [
       "Text(2023-07-02 00:00:00, 5.718, '+ 0,80% Gasolina Aditivada')"
      ]
     },
     "execution_count": 36,
     "metadata": {},
     "output_type": "execute_result"
    },
    {
     "data": {
      "image/png": "[encoded data removed]",
      "text/plain": [
       "<Figure size 640x480 with 1 Axes>"
      ]
     },
     "metadata": {},
     "output_type": "display_data"
    }
   ],
   "source": [
    "plt.plot(mdc.index.to_list(),mdc['GASOLINA ADITIVADA'].to_list(),color='#d11507',linewidth=2.5)\n",
    "plt.scatter(mdc.index[-1],mdc['GASOLINA ADITIVADA'][-1],color='#d11507')\n",
    "plt.annotate(percentual_g_a, xy=(mdc.index[-1],mdc['GASOLINA ADITIVADA'][-1]), xytext=((mdc.index[-1])+pd.Timedelta(days=2),mdc['GASOLINA ADITIVADA'][-1]),arrowprops=dict(color='#d11507', arrowstyle='-'),color='#d11507',fontsize=12,fontstyle= 'italic',fontweight= 'bold')\n"
   ]
  },
  {
   "cell_type": "code",
   "execution_count": null,
   "metadata": {},
   "outputs": [],
   "source": [
    "datas_n = ['2023-05-01', '2023-05-08', '2023-05-15', '2023-05-22', '2023-06-01',  '2023-06-08', '2023-06-15', '2023-06-22', '2023-07-01']\n",
    "data_e = ['1a Mai','2a Mai','3a Mai','4a Mai','1a Jun', '2a Jun', '3a Jun', '4a Jun', '1a Jul']\n",
    "valor_n=[4.0,4.5,5.0,5.5]\n",
    "valor_e=['R$ 4,00','R$ 4,50','R$ 5,00','R$ 5,50']\n",
    "\n",
    "plt.figure(figsize=(8,4))\n",
    "\n",
    "plt.plot(mdc.index.to_list(),mdc['GASOLINA ADITIVADA'].to_list(),color='#d11507',linewidth=2.5)\n",
    "plt.scatter([mdc.index.max()],[mdc[mdc['GASOLINA ADITIVADA'].index.max()]],color='#d11507')\n",
    "plt.annotate(percentual_g_a, xy=(mdc.index.max(),mdc[mdc['GASOLINA'].index.max()]), xytext=((mdc.index.max())+pd.Timedelta(days=2),mdc[mdc['GASOLINA ADITIVADA'].index.max()]),arrowprops=dict(color='#d11507', arrowstyle='-'),color='#d11507',fontsize=12,fontstyle= 'italic',fontweight= 'bold')\n",
    "\n",
    "plt.plot(gasolina_c.index.to_list(),gasolina_c.to_list(),color='#a51b0b',linewidth=2.5)\n",
    "plt.scatter([gasolina_c.index.max()],[gasolina_c[gasolina_c.index.max()]],color='#a51b0b')\n",
    "plt.annotate(percentual_g_c, xy=(gasolina_c.index.max(),gasolina_c[gasolina_c.index.max()]), xytext=((gasolina_c.index.max())+pd.Timedelta(days=2),gasolina_c[gasolina_c.index.max()]),arrowprops=dict(color='#a51b0b', arrowstyle='-'),color='#a51b0b',fontsize=12,fontstyle= 'italic',fontweight= 'bold')\n",
    "\n",
    "plt.plot(etanol.index.to_list(),etanol.to_list(),color='skyblue',linewidth=2.5)\n",
    "plt.scatter([etanol.index.max()],[etanol[etanol.index.max()]],color='skyblue')\n",
    "plt.annotate(percentual_e, xy=(etanol.index.max(),etanol[etanol.index.max()]), xytext=((etanol.index.max())+pd.Timedelta(days=2),etanol[etanol.index.max()]),arrowprops=dict(color='skyblue', arrowstyle='-'),color='DodgerBlue',fontsize=12,fontstyle= 'italic',fontweight= 'bold')\n",
    "\n",
    "plt.gca().spines[['right','top']].set_visible(False)\n",
    "plt.gca().spines[['bottom','left']].set_color('grey')\n",
    "plt.xticks(datas_n,data_e,color='darkgrey')\n",
    "plt.tick_params(axis='both',color='grey')\n",
    "plt.yticks(valor_n,valor_e,color='grey')\n",
    "plt.title('percentual de mudança nos valores do combustivel\\nentre maio e junho\\n\\n\\n',color='darkred',fontweight= 'bold',fontsize=15, fontstyle= 'italic',loc='left')\n",
    "plt.show()"
   ]
  }
 ],
 "metadata": {
  "kernelspec": {
   "display_name": "base",
   "language": "python",
   "name": "python3"
  },
  "language_info": {
   "codemirror_mode": {
    "name": "ipython",
    "version": 3
   },
   "file_extension": ".py",
   "mimetype": "text/x-python",
   "name": "python",
   "nbconvert_exporter": "python",
   "pygments_lexer": "ipython3",
   "version": "3.10.9"
  },
  "orig_nbformat": 4
 },
 "nbformat": 4,
 "nbformat_minor": 2
}
